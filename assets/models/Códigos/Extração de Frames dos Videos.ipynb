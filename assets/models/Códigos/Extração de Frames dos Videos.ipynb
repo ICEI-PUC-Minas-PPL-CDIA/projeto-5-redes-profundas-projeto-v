{
 "cells": [
  {
   "cell_type": "markdown",
   "metadata": {},
   "source": [
    "Link do repositório com o código utilizado: https://github.com/CyberRacc/batch-frames-extract/blob/main/extract.py"
   ]
  },
  {
   "cell_type": "code",
   "execution_count": null,
   "metadata": {},
   "outputs": [],
   "source": [
    "import cv2 \n",
    "import os\n",
    "import glob\n",
    "from tqdm import tqdm"
   ]
  },
  {
   "cell_type": "markdown",
   "metadata": {},
   "source": [
    "EXTRAINDO 1 FRAME POR SEGUNDO DE CADA VÍDEO E OS SALVANDO EM UMA PASTA.\n",
    "\n",
    "Cada vídeo gera uma subpasta com os frames extraídos nomeados em sequência."
   ]
  },
  {
   "cell_type": "code",
   "execution_count": null,
   "metadata": {},
   "outputs": [],
   "source": [
    "def extract_frames_1fps(video_path, dir_path):\n",
    "    # Extraindo o nome do vídeo sem extensão\n",
    "    video_name = os.path.basename(video_path)\n",
    "    video_stem = os.path.splitext(video_name)[0]\n",
    "    \n",
    "    cap = cv2.VideoCapture(video_path)\n",
    "    if not cap.isOpened():\n",
    "        print(f\"Não foi possível abrir o vídeo {video_path}.\")\n",
    "        return\n",
    "\n",
    "    # Pegando a duração do vídeo em segundos\n",
    "    fps = cap.get(cv2.CAP_PROP_FPS)\n",
    "    total_frames = int(cap.get(cv2.CAP_PROP_FRAME_COUNT))\n",
    "    duration_secs = int(total_frames / fps)\n",
    "\n",
    "    # Criando a pasta de saída com nome do vídeo\n",
    "    output_folder = os.path.join(dir_path, video_stem)\n",
    "    os.makedirs(output_folder, exist_ok=True)\n",
    "\n",
    "    # Extraindo 1 frame por segundo\n",
    "    with tqdm(total=duration_secs, desc=video_name, ncols=80) as pbar:\n",
    "        for sec in range(duration_secs):\n",
    "            cap.set(cv2.CAP_PROP_POS_MSEC, sec * 1000)  \n",
    "            ret, frame = cap.read()\n",
    "            if not ret:\n",
    "                break\n",
    "\n",
    "            # Salvando o frame como imagem PNG\n",
    "            frame_filename = os.path.join(output_folder, f'{video_stem}_frame{sec:04d}.png')\n",
    "            cv2.imwrite(frame_filename, frame)\n",
    "            pbar.update(1)\n",
    "\n",
    "    # Liberando os recursos\n",
    "    cap.release()\n",
    "    cv2.destroyAllWindows()\n"
   ]
  },
  {
   "cell_type": "code",
   "execution_count": null,
   "metadata": {},
   "outputs": [],
   "source": [
    "# Caminho da pasta contendo os vídeos\n",
    "entrada = r\"D:\\Ligia Puc\\ProjetoV - A3\\videos - a3\"\n",
    "\n",
    "# Caminho da pasta onde as subpastas com os frames de cada vídeo serão salvas\n",
    "saida = r\"D:\\Ligia Puc\\ProjetoV - A3\\framesA3\"\n",
    "os.makedirs(saida, exist_ok=True)\n",
    "\n",
    "# Selecionando todas as extensões possíveis para os vídeos\n",
    "video_extensions = [\"*.mp4\", \"*.avi\", \"*.mkv\", \"*.mov\", \"*.flv\", \"*.wmv\"]\n",
    "video_paths = [glob.glob(os.path.join(entrada, ext)) for ext in video_extensions]\n",
    "video_paths = [item for sublist in video_paths for item in sublist]  \n",
    "\n",
    "# Verifica se há vídeos\n",
    "if not video_paths:\n",
    "    print(\"Não foram encontrados vídeos nesse diretório.\")\n",
    "    exit(1)\n",
    "\n",
    "# Processar vídeos\n",
    "total_videos = len(video_paths)\n",
    "mostrar_inicio = 5\n",
    "mostrar_fim = 5\n",
    "\n",
    "for idx, video_path in enumerate(video_paths, 1):\n",
    "    if idx <= mostrar_inicio or idx > total_videos - mostrar_fim:\n",
    "        print(f\"Processando vídeo {idx} de {total_videos}: {os.path.basename(video_path)}\")\n",
    "    elif idx == mostrar_inicio + 1:\n",
    "        print(\"...\") \n",
    "\n",
    "    extract_frames_1fps(video_path, saida)\n",
    "\n",
    "print(\"\\nTodos os vídeos foram processados!\")\n"
   ]
  }
 ],
 "metadata": {
  "kernelspec": {
   "display_name": "Python 3",
   "language": "python",
   "name": "python3"
  },
  "language_info": {
   "codemirror_mode": {
    "name": "ipython",
    "version": 3
   },
   "file_extension": ".py",
   "mimetype": "text/x-python",
   "name": "python",
   "nbconvert_exporter": "python",
   "pygments_lexer": "ipython3",
   "version": "3.13.2"
  }
 },
 "nbformat": 4,
 "nbformat_minor": 2
}
